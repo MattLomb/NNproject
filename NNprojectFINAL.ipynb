{
  "nbformat": 4,
  "nbformat_minor": 0,
  "metadata": {
    "colab": {
      "name": "NNprojectFINAL.ipynb",
      "provenance": [],
      "collapsed_sections": [],
      "include_colab_link": true
    },
    "kernelspec": {
      "name": "python3",
      "display_name": "Python 3"
    },
    "language_info": {
      "name": "python"
    },
    "accelerator": "GPU"
  },
  "cells": [
    {
      "cell_type": "markdown",
      "metadata": {
        "id": "view-in-github",
        "colab_type": "text"
      },
      "source": [
        "<a href=\"https://colab.research.google.com/github/MattLomb/NNproject/blob/main/NNprojectFINAL.ipynb\" target=\"_parent\"><img src=\"https://colab.research.google.com/assets/colab-badge.svg\" alt=\"Open In Colab\"/></a>"
      ]
    },
    {
      "cell_type": "markdown",
      "metadata": {
        "id": "dRZgubLRJfI-"
      },
      "source": [
        "Cloning into the project"
      ]
    },
    {
      "cell_type": "code",
      "metadata": {
        "colab": {
          "base_uri": "https://localhost:8080/"
        },
        "id": "Y4S7nrYfF_Md",
        "outputId": "389850a5-7004-4fd7-d1f8-7fb709bdfe9e"
      },
      "source": [
        "! git clone https://github.com/MattLomb/NNproject.git"
      ],
      "execution_count": null,
      "outputs": [
        {
          "output_type": "stream",
          "name": "stdout",
          "text": [
            "Cloning into 'NNproject'...\n",
            "remote: Enumerating objects: 276, done.\u001b[K\n",
            "remote: Counting objects: 100% (276/276), done.\u001b[K\n",
            "remote: Compressing objects: 100% (201/201), done.\u001b[K\n",
            "remote: Total 276 (delta 107), reused 222 (delta 62), pack-reused 0\u001b[K\n",
            "Receiving objects: 100% (276/276), 29.12 MiB | 26.39 MiB/s, done.\n",
            "Resolving deltas: 100% (107/107), done.\n"
          ]
        }
      ]
    },
    {
      "cell_type": "code",
      "metadata": {
        "colab": {
          "base_uri": "https://localhost:8080/"
        },
        "id": "RuJqvacvGHyr",
        "outputId": "b6017471-fec5-4b24-9bc2-b032af2d6eb2"
      },
      "source": [
        "% cd NNproject"
      ],
      "execution_count": null,
      "outputs": [
        {
          "output_type": "stream",
          "name": "stdout",
          "text": [
            "/content/NNproject\n"
          ]
        }
      ]
    },
    {
      "cell_type": "markdown",
      "metadata": {
        "id": "-BLsyASqJiLf"
      },
      "source": [
        "Setup the environment"
      ]
    },
    {
      "cell_type": "code",
      "metadata": {
        "colab": {
          "base_uri": "https://localhost:8080/"
        },
        "id": "c93MK7nJGKt9",
        "outputId": "2e2ad1b3-4913-41c5-afbd-eb1a914b0b01"
      },
      "source": [
        "! sudo apt install python-virtualenv"
      ],
      "execution_count": null,
      "outputs": [
        {
          "output_type": "stream",
          "name": "stdout",
          "text": [
            "Reading package lists... Done\n",
            "Building dependency tree       \n",
            "Reading state information... Done\n",
            "python-virtualenv is already the newest version (15.1.0+ds-1.1).\n",
            "0 upgraded, 0 newly installed, 0 to remove and 37 not upgraded.\n"
          ]
        }
      ]
    },
    {
      "cell_type": "code",
      "metadata": {
        "colab": {
          "base_uri": "https://localhost:8080/"
        },
        "id": "GvEHKnEoGUxQ",
        "outputId": "81000f92-d8bd-4154-f039-38137fd5c9ab"
      },
      "source": [
        "! virtualenv --python=python3.6 env && . ./env/bin/activate"
      ],
      "execution_count": null,
      "outputs": [
        {
          "output_type": "stream",
          "name": "stdout",
          "text": [
            "Running virtualenv with interpreter /usr/bin/python3.6\n",
            "Using base prefix '/usr'\n",
            "New python executable in /content/NNproject/env/bin/python3.6\n",
            "Not overwriting existing python script /content/NNproject/env/bin/python (you must use /content/NNproject/env/bin/python3.6)\n",
            "Installing setuptools, pkg_resources, pip, wheel...done.\n"
          ]
        }
      ]
    },
    {
      "cell_type": "code",
      "metadata": {
        "colab": {
          "base_uri": "https://localhost:8080/"
        },
        "id": "_VnJvXcuGWZy",
        "outputId": "7afce338-7348-408f-c44a-28986e031730"
      },
      "source": [
        "! pip install -r requirements.txt"
      ],
      "execution_count": null,
      "outputs": [
        {
          "output_type": "stream",
          "name": "stdout",
          "text": [
            "Requirement already satisfied: absl-py==0.13.0 in /usr/local/lib/python3.7/dist-packages (from -r requirements.txt (line 1)) (0.13.0)\n",
            "Requirement already satisfied: astunparse==1.6.3 in /usr/local/lib/python3.7/dist-packages (from -r requirements.txt (line 2)) (1.6.3)\n",
            "Requirement already satisfied: autograd==1.3 in /usr/local/lib/python3.7/dist-packages (from -r requirements.txt (line 3)) (1.3)\n",
            "Requirement already satisfied: cachetools==4.2.2 in /usr/local/lib/python3.7/dist-packages (from -r requirements.txt (line 4)) (4.2.2)\n",
            "Requirement already satisfied: certifi==2021.5.30 in /usr/local/lib/python3.7/dist-packages (from -r requirements.txt (line 5)) (2021.5.30)\n",
            "Requirement already satisfied: charset-normalizer==2.0.6 in /usr/local/lib/python3.7/dist-packages (from -r requirements.txt (line 6)) (2.0.6)\n",
            "Requirement already satisfied: clang==5.0 in /usr/local/lib/python3.7/dist-packages (from -r requirements.txt (line 7)) (5.0)\n",
            "Requirement already satisfied: cma==2.7.0 in /usr/local/lib/python3.7/dist-packages (from -r requirements.txt (line 8)) (2.7.0)\n",
            "Requirement already satisfied: cycler==0.10.0 in /usr/local/lib/python3.7/dist-packages (from -r requirements.txt (line 9)) (0.10.0)\n",
            "Requirement already satisfied: filelock==3.1.0 in /usr/local/lib/python3.7/dist-packages (from -r requirements.txt (line 10)) (3.1.0)\n",
            "Requirement already satisfied: flatbuffers==1.12 in /usr/local/lib/python3.7/dist-packages (from -r requirements.txt (line 11)) (1.12)\n",
            "Requirement already satisfied: ftfy==6.0.3 in /usr/local/lib/python3.7/dist-packages (from -r requirements.txt (line 12)) (6.0.3)\n",
            "Requirement already satisfied: future==0.18.2 in /usr/local/lib/python3.7/dist-packages (from -r requirements.txt (line 13)) (0.18.2)\n",
            "Requirement already satisfied: gast==0.4.0 in /usr/local/lib/python3.7/dist-packages (from -r requirements.txt (line 14)) (0.4.0)\n",
            "Requirement already satisfied: gdown==3.13.1 in /usr/local/lib/python3.7/dist-packages (from -r requirements.txt (line 15)) (3.13.1)\n",
            "Requirement already satisfied: google-auth==1.35.0 in /usr/local/lib/python3.7/dist-packages (from -r requirements.txt (line 16)) (1.35.0)\n",
            "Requirement already satisfied: google-auth-oauthlib==0.4.6 in /usr/local/lib/python3.7/dist-packages (from -r requirements.txt (line 17)) (0.4.6)\n",
            "Requirement already satisfied: google-pasta==0.2.0 in /usr/local/lib/python3.7/dist-packages (from -r requirements.txt (line 18)) (0.2.0)\n",
            "Requirement already satisfied: grpcio==1.40.0 in /usr/local/lib/python3.7/dist-packages (from -r requirements.txt (line 19)) (1.40.0)\n",
            "Requirement already satisfied: h5py==3.1.0 in /usr/local/lib/python3.7/dist-packages (from -r requirements.txt (line 20)) (3.1.0)\n",
            "Requirement already satisfied: idna==3.2 in /usr/local/lib/python3.7/dist-packages (from -r requirements.txt (line 21)) (3.2)\n",
            "Requirement already satisfied: keras==2.6.0 in /usr/local/lib/python3.7/dist-packages (from -r requirements.txt (line 22)) (2.6.0)\n",
            "Requirement already satisfied: Keras-Preprocessing==1.1.2 in /usr/local/lib/python3.7/dist-packages (from -r requirements.txt (line 23)) (1.1.2)\n",
            "Requirement already satisfied: kiwisolver==1.3.2 in /usr/local/lib/python3.7/dist-packages (from -r requirements.txt (line 24)) (1.3.2)\n",
            "Requirement already satisfied: Markdown==3.3.4 in /usr/local/lib/python3.7/dist-packages (from -r requirements.txt (line 25)) (3.3.4)\n",
            "Requirement already satisfied: matplotlib==3.4.3 in /usr/local/lib/python3.7/dist-packages (from -r requirements.txt (line 26)) (3.4.3)\n",
            "Requirement already satisfied: numpy==1.19.5 in /usr/local/lib/python3.7/dist-packages (from -r requirements.txt (line 27)) (1.19.5)\n",
            "Requirement already satisfied: oauthlib==3.1.1 in /usr/local/lib/python3.7/dist-packages (from -r requirements.txt (line 28)) (3.1.1)\n",
            "Requirement already satisfied: opt-einsum==3.3.0 in /usr/local/lib/python3.7/dist-packages (from -r requirements.txt (line 29)) (3.3.0)\n",
            "Requirement already satisfied: pandas==1.3.3 in /usr/local/lib/python3.7/dist-packages (from -r requirements.txt (line 30)) (1.3.3)\n",
            "Requirement already satisfied: Pillow==8.3.2 in /usr/local/lib/python3.7/dist-packages (from -r requirements.txt (line 31)) (8.3.2)\n",
            "Requirement already satisfied: protobuf==3.18.0 in /usr/local/lib/python3.7/dist-packages (from -r requirements.txt (line 32)) (3.18.0)\n",
            "Requirement already satisfied: pyasn1==0.4.8 in /usr/local/lib/python3.7/dist-packages (from -r requirements.txt (line 33)) (0.4.8)\n",
            "Requirement already satisfied: pyasn1-modules==0.2.8 in /usr/local/lib/python3.7/dist-packages (from -r requirements.txt (line 34)) (0.2.8)\n",
            "Requirement already satisfied: pymoo==0.4.2.1 in /usr/local/lib/python3.7/dist-packages (from -r requirements.txt (line 35)) (0.4.2.1)\n",
            "Requirement already satisfied: pyparsing==2.4.7 in /usr/local/lib/python3.7/dist-packages (from -r requirements.txt (line 36)) (2.4.7)\n",
            "Requirement already satisfied: PySocks==1.7.1 in /usr/local/lib/python3.7/dist-packages (from -r requirements.txt (line 37)) (1.7.1)\n",
            "Requirement already satisfied: python-dateutil==2.8.2 in /usr/local/lib/python3.7/dist-packages (from -r requirements.txt (line 38)) (2.8.2)\n",
            "Requirement already satisfied: pytz==2021.3 in /usr/local/lib/python3.7/dist-packages (from -r requirements.txt (line 39)) (2021.3)\n",
            "Requirement already satisfied: regex==2021.9.24 in /usr/local/lib/python3.7/dist-packages (from -r requirements.txt (line 40)) (2021.9.24)\n",
            "Requirement already satisfied: requests==2.26.0 in /usr/local/lib/python3.7/dist-packages (from -r requirements.txt (line 41)) (2.26.0)\n",
            "Requirement already satisfied: requests-oauthlib==1.3.0 in /usr/local/lib/python3.7/dist-packages (from -r requirements.txt (line 42)) (1.3.0)\n",
            "Requirement already satisfied: rsa==4.7.2 in /usr/local/lib/python3.7/dist-packages (from -r requirements.txt (line 43)) (4.7.2)\n",
            "Requirement already satisfied: scipy==1.7.1 in /usr/local/lib/python3.7/dist-packages (from -r requirements.txt (line 44)) (1.7.1)\n",
            "Requirement already satisfied: six==1.15.0 in /usr/local/lib/python3.7/dist-packages (from -r requirements.txt (line 45)) (1.15.0)\n",
            "Requirement already satisfied: tensorboard==2.6.0 in /usr/local/lib/python3.7/dist-packages (from -r requirements.txt (line 46)) (2.6.0)\n",
            "Requirement already satisfied: tensorboard-data-server==0.6.1 in /usr/local/lib/python3.7/dist-packages (from -r requirements.txt (line 47)) (0.6.1)\n",
            "Requirement already satisfied: tensorboard-plugin-wit==1.8.0 in /usr/local/lib/python3.7/dist-packages (from -r requirements.txt (line 48)) (1.8.0)\n",
            "Requirement already satisfied: tensorflow==2.6.0 in /usr/local/lib/python3.7/dist-packages (from -r requirements.txt (line 49)) (2.6.0)\n",
            "Requirement already satisfied: tensorflow-addons==0.14.0 in /usr/local/lib/python3.7/dist-packages (from -r requirements.txt (line 50)) (0.14.0)\n",
            "Requirement already satisfied: tensorflow-estimator==2.6.0 in /usr/local/lib/python3.7/dist-packages (from -r requirements.txt (line 51)) (2.6.0)\n",
            "Requirement already satisfied: tensorflow-hub==0.12.0 in /usr/local/lib/python3.7/dist-packages (from -r requirements.txt (line 52)) (0.12.0)\n",
            "Requirement already satisfied: tensorflow-text==2.6.0 in /usr/local/lib/python3.7/dist-packages (from -r requirements.txt (line 53)) (2.6.0)\n",
            "Requirement already satisfied: termcolor==1.1.0 in /usr/local/lib/python3.7/dist-packages (from -r requirements.txt (line 54)) (1.1.0)\n",
            "Requirement already satisfied: tqdm==4.62.3 in /usr/local/lib/python3.7/dist-packages (from -r requirements.txt (line 55)) (4.62.3)\n",
            "Requirement already satisfied: typeguard==2.12.1 in /usr/local/lib/python3.7/dist-packages (from -r requirements.txt (line 56)) (2.12.1)\n",
            "Requirement already satisfied: typing-extensions==3.7.4.3 in /usr/local/lib/python3.7/dist-packages (from -r requirements.txt (line 57)) (3.7.4.3)\n",
            "Requirement already satisfied: urllib3==1.26.6 in /usr/local/lib/python3.7/dist-packages (from -r requirements.txt (line 58)) (1.26.6)\n",
            "Requirement already satisfied: wcwidth==0.2.5 in /usr/local/lib/python3.7/dist-packages (from -r requirements.txt (line 59)) (0.2.5)\n",
            "Requirement already satisfied: Werkzeug==2.0.1 in /usr/local/lib/python3.7/dist-packages (from -r requirements.txt (line 60)) (2.0.1)\n",
            "Requirement already satisfied: wrapt==1.12.1 in /usr/local/lib/python3.7/dist-packages (from -r requirements.txt (line 61)) (1.12.1)\n",
            "Requirement already satisfied: wheel<1.0,>=0.23.0 in /usr/local/lib/python3.7/dist-packages (from astunparse==1.6.3->-r requirements.txt (line 2)) (0.37.0)\n",
            "Requirement already satisfied: setuptools>=40.3.0 in /usr/local/lib/python3.7/dist-packages (from google-auth==1.35.0->-r requirements.txt (line 16)) (57.4.0)\n",
            "Requirement already satisfied: cached-property in /usr/local/lib/python3.7/dist-packages (from h5py==3.1.0->-r requirements.txt (line 20)) (1.5.2)\n",
            "Requirement already satisfied: importlib-metadata in /usr/local/lib/python3.7/dist-packages (from Markdown==3.3.4->-r requirements.txt (line 25)) (4.8.1)\n",
            "Requirement already satisfied: zipp>=0.5 in /usr/local/lib/python3.7/dist-packages (from importlib-metadata->Markdown==3.3.4->-r requirements.txt (line 25)) (3.6.0)\n"
          ]
        }
      ]
    },
    {
      "cell_type": "markdown",
      "metadata": {
        "id": "Rvcmrbt5Jlic"
      },
      "source": [
        "Download StyleGAN2 weights"
      ]
    },
    {
      "cell_type": "code",
      "metadata": {
        "colab": {
          "base_uri": "https://localhost:8080/"
        },
        "id": "krK-eu9dHjIJ",
        "outputId": "d82abf42-4d37-4ccd-a120-b0fb06c906bf"
      },
      "source": [
        "% cd StyleGAN2/weights/"
      ],
      "execution_count": null,
      "outputs": [
        {
          "output_type": "stream",
          "name": "stdout",
          "text": [
            "/content/NNproject/StyleGAN2/weights\n"
          ]
        }
      ]
    },
    {
      "cell_type": "code",
      "metadata": {
        "colab": {
          "base_uri": "https://localhost:8080/"
        },
        "id": "dqyNWM5jHudp",
        "outputId": "81c85ef5-e7cb-4a16-e7c9-b722aa2504b9"
      },
      "source": [
        "! python download.py"
      ],
      "execution_count": null,
      "outputs": [
        {
          "output_type": "stream",
          "name": "stdout",
          "text": [
            "sh: 1: cmd: not found\n",
            "Downloading...\n",
            "From: https://drive.google.com/uc?id=1afMN3e_6UuTTPDL63WHaA0Fb9EQrZceE\n",
            "To: /content/NNproject/StyleGAN2/weights/ffhq.npy\n",
            "100% 249M/249M [00:02<00:00, 110MB/s] \n",
            "Downloading...\n",
            "From: https://drive.google.com/uc?id=1Av4p3JNWkmWsJx6s9Hq32JvlNWSW4kgk\n",
            "To: /content/NNproject/StyleGAN2/weights/car.npy\n",
            "100% 249M/249M [00:01<00:00, 145MB/s]\n",
            "Downloading...\n",
            "From: https://drive.google.com/uc?id=1LCyHcKtqNs8NirJeSPq3fKAUZ-MLt_-8\n",
            "To: /content/NNproject/StyleGAN2/weights/cat.npy\n",
            "100% 248M/248M [00:01<00:00, 125MB/s]\n",
            "Downloading...\n",
            "From: https://drive.google.com/uc?id=1pEAeJTK_ZPfkUvV7VFDHq0O4tKYsslkX\n",
            "To: /content/NNproject/StyleGAN2/weights/church.npy\n",
            "100% 248M/248M [00:01<00:00, 129MB/s]\n",
            "Downloading...\n",
            "From: https://drive.google.com/uc?id=16_QtKS2w9-40uxGZ02h3OtFhnJgNgdi_\n",
            "To: /content/NNproject/StyleGAN2/weights/horse.npy\n",
            "100% 248M/248M [00:01<00:00, 138MB/s]\n"
          ]
        }
      ]
    },
    {
      "cell_type": "markdown",
      "metadata": {
        "id": "0HMwBWwkJpYq"
      },
      "source": [
        "Moving text_encoder and vision_encoder into CLIP/models\n",
        "NOTE: download CLIP's weights from gdrive (link in CLIP/models/requirements.txt) and copy them in a gdrive folder called /content/gdrive/MyDrive/Colab\\ Notebooks/NNproject/text_encoder and /content/gdrive/MyDrive/Colab\\ Notebooks/NNproject/vision_encoder"
      ]
    },
    {
      "cell_type": "code",
      "metadata": {
        "colab": {
          "base_uri": "https://localhost:8080/"
        },
        "id": "f3NibrCjIOpd",
        "outputId": "b547632b-a7b0-4e8e-a49e-1ce5e68fe3eb"
      },
      "source": [
        "from google.colab import drive\n",
        "drive.mount('/content/gdrive')\n"
      ],
      "execution_count": null,
      "outputs": [
        {
          "output_type": "stream",
          "name": "stdout",
          "text": [
            "Mounted at /content/gdrive\n"
          ]
        }
      ]
    },
    {
      "cell_type": "code",
      "metadata": {
        "id": "nWtoo6vxIXwI"
      },
      "source": [
        "! cp -r /content/gdrive/MyDrive/Colab\\ Notebooks/NNproject/text_encoder /content/NNproject/CLIP/models"
      ],
      "execution_count": null,
      "outputs": []
    },
    {
      "cell_type": "code",
      "metadata": {
        "id": "hnB90JdxJ_f3"
      },
      "source": [
        "! cp -r /content/gdrive/MyDrive/Colab\\ Notebooks/NNproject/vision_encoder /content/NNproject/CLIP/models"
      ],
      "execution_count": null,
      "outputs": []
    },
    {
      "cell_type": "code",
      "metadata": {
        "colab": {
          "base_uri": "https://localhost:8080/"
        },
        "id": "ZhEEkPQ_KZLp",
        "outputId": "eae4d14a-2034-48ec-e57e-e4a772e89fba"
      },
      "source": [
        "% ls"
      ],
      "execution_count": null,
      "outputs": [
        {
          "output_type": "stream",
          "name": "stdout",
          "text": [
            "car_dlatent_avg.npy  church_dlatent_avg.npy  ffhq.npy\n",
            "car.npy              church.npy              horse_dlatent_avg.npy\n",
            "cat_dlatent_avg.npy  download.py             horse.npy\n",
            "cat.npy              ffhq_dlatent_avg.npy\n"
          ]
        }
      ]
    },
    {
      "cell_type": "code",
      "metadata": {
        "colab": {
          "base_uri": "https://localhost:8080/"
        },
        "id": "Q9lBsqReKbmS",
        "outputId": "f51de129-6c23-41ae-9d85-741f36a7707d"
      },
      "source": [
        "% cd ../..\n",
        "% ls"
      ],
      "execution_count": null,
      "outputs": [
        {
          "output_type": "stream",
          "name": "stdout",
          "text": [
            "/content/NNproject\n",
            "\u001b[0m\u001b[01;34mCLIP\u001b[0m/      generator.py  problem.py    requirements.txt  test.py\n",
            "config.py  \u001b[01;34mimages\u001b[0m/       \u001b[01;34m__pycache__\u001b[0m/  run.py            utils.py\n",
            "\u001b[01;34menv\u001b[0m/       operators.py  README.md     \u001b[01;34mStyleGAN2\u001b[0m/\n"
          ]
        }
      ]
    },
    {
      "cell_type": "code",
      "metadata": {
        "colab": {
          "base_uri": "https://localhost:8080/"
        },
        "id": "IMiabipiTbCM",
        "outputId": "1ab9a92f-36b8-4b43-dd6c-384fcf6a4886"
      },
      "source": [
        "! git pull\n"
      ],
      "execution_count": null,
      "outputs": [
        {
          "output_type": "stream",
          "name": "stdout",
          "text": [
            "Already up to date.\n"
          ]
        }
      ]
    },
    {
      "cell_type": "code",
      "metadata": {
        "colab": {
          "base_uri": "https://localhost:8080/"
        },
        "id": "d8bSaywCGgE3",
        "outputId": "c042c2ef-3299-4506-b28e-b159f1bf9a8c"
      },
      "source": [
        "! python run.py --config \"StyleGAN2_ffhq_nod\" --target \"man mustache brown hair\" --generations 100"
      ],
      "execution_count": null,
      "outputs": [
        {
          "output_type": "stream",
          "name": "stdout",
          "text": [
            "2021-10-14 16:32:45.701293: I tensorflow/stream_executor/cuda/cuda_gpu_executor.cc:937] successful NUMA node read from SysFS had negative value (-1), but there must be at least one NUMA node, so returning NUMA node zero\n",
            "2021-10-14 16:32:46.073684: I tensorflow/stream_executor/cuda/cuda_gpu_executor.cc:937] successful NUMA node read from SysFS had negative value (-1), but there must be at least one NUMA node, so returning NUMA node zero\n",
            "2021-10-14 16:32:46.074619: I tensorflow/stream_executor/cuda/cuda_gpu_executor.cc:937] successful NUMA node read from SysFS had negative value (-1), but there must be at least one NUMA node, so returning NUMA node zero\n",
            "2021-10-14 16:32:46.076039: I tensorflow/stream_executor/cuda/cuda_gpu_executor.cc:937] successful NUMA node read from SysFS had negative value (-1), but there must be at least one NUMA node, so returning NUMA node zero\n",
            "2021-10-14 16:32:46.076850: I tensorflow/stream_executor/cuda/cuda_gpu_executor.cc:937] successful NUMA node read from SysFS had negative value (-1), but there must be at least one NUMA node, so returning NUMA node zero\n",
            "2021-10-14 16:32:46.077673: I tensorflow/stream_executor/cuda/cuda_gpu_executor.cc:937] successful NUMA node read from SysFS had negative value (-1), but there must be at least one NUMA node, so returning NUMA node zero\n",
            "2021-10-14 16:32:51.060840: I tensorflow/stream_executor/cuda/cuda_gpu_executor.cc:937] successful NUMA node read from SysFS had negative value (-1), but there must be at least one NUMA node, so returning NUMA node zero\n",
            "2021-10-14 16:32:51.061736: I tensorflow/stream_executor/cuda/cuda_gpu_executor.cc:937] successful NUMA node read from SysFS had negative value (-1), but there must be at least one NUMA node, so returning NUMA node zero\n",
            "2021-10-14 16:32:51.062557: I tensorflow/stream_executor/cuda/cuda_gpu_executor.cc:937] successful NUMA node read from SysFS had negative value (-1), but there must be at least one NUMA node, so returning NUMA node zero\n",
            "2021-10-14 16:32:51.063483: W tensorflow/core/common_runtime/gpu/gpu_bfc_allocator.cc:39] Overriding allow_growth setting because the TF_FORCE_GPU_ALLOW_GROWTH environment variable is set. Original config value was 0.\n",
            "2021-10-14 16:32:51.063564: I tensorflow/core/common_runtime/gpu/gpu_device.cc:1510] Created device /job:localhost/replica:0/task:0/device:GPU:0 with 10819 MB memory:  -> device: 0, name: Tesla K80, pci bus id: 0000:00:04.0, compute capability: 3.7\n",
            "2021-10-14 16:33:00.875692: I tensorflow/compiler/mlir/mlir_graph_optimization_pass.cc:185] None of the MLIR Optimization Passes are enabled (registered 2)\n",
            "WARNING:tensorflow:No training configuration found in save file, so the model was *not* compiled. Compile it manually.\n",
            "WARNING:tensorflow:No training configuration found in save file, so the model was *not* compiled. Compile it manually.\n",
            "2021-10-14 16:33:25.521423: I tensorflow/stream_executor/cuda/cuda_dnn.cc:369] Loaded cuDNN version 8005\n",
            "Setting up TensorFlow plugin \"upfirdn_2d.cu\": Preprocessing... 2021-10-14 16:33:52.281217: I tensorflow/stream_executor/cuda/cuda_gpu_executor.cc:937] successful NUMA node read from SysFS had negative value (-1), but there must be at least one NUMA node, so returning NUMA node zero\n",
            "2021-10-14 16:33:52.282023: I tensorflow/stream_executor/cuda/cuda_gpu_executor.cc:937] successful NUMA node read from SysFS had negative value (-1), but there must be at least one NUMA node, so returning NUMA node zero\n",
            "2021-10-14 16:33:52.282660: I tensorflow/stream_executor/cuda/cuda_gpu_executor.cc:937] successful NUMA node read from SysFS had negative value (-1), but there must be at least one NUMA node, so returning NUMA node zero\n",
            "2021-10-14 16:33:52.283381: I tensorflow/stream_executor/cuda/cuda_gpu_executor.cc:937] successful NUMA node read from SysFS had negative value (-1), but there must be at least one NUMA node, so returning NUMA node zero\n",
            "2021-10-14 16:33:52.284001: I tensorflow/stream_executor/cuda/cuda_gpu_executor.cc:937] successful NUMA node read from SysFS had negative value (-1), but there must be at least one NUMA node, so returning NUMA node zero\n",
            "2021-10-14 16:33:52.284635: I tensorflow/core/common_runtime/gpu/gpu_device.cc:1510] Created device /device:GPU:0 with 10819 MB memory:  -> device: 0, name: Tesla K80, pci bus id: 0000:00:04.0, compute capability: 3.7\n",
            "Compiling... Loading... Done.\n",
            "Loaded ffhq generator weights!\n",
            "===========================================================================\n",
            "n_gen |  n_eval |   cv (min)   |   cv (avg)   |     fopt     |     favg    \n",
            "===========================================================================\n",
            "    1 |       4 |  0.00000E+00 |  0.00000E+00 | tf.Tensor(-0.11948865, shape=(), dtype=float32) |  -0.10083541\n",
            "    2 |       8 |  0.00000E+00 |  0.00000E+00 | tf.Tensor(-0.14527509, shape=(), dtype=float32) |  -0.11788057\n",
            "    3 |      12 |  0.00000E+00 |  0.00000E+00 | tf.Tensor(-0.14527509, shape=(), dtype=float32) |  -0.12433432\n",
            "    4 |      16 |  0.00000E+00 |  0.00000E+00 | tf.Tensor(-0.17208977, shape=(), dtype=float32) |  -0.14057536\n",
            "    5 |      20 |  0.00000E+00 |  0.00000E+00 | tf.Tensor(-0.18397158, shape=(), dtype=float32) |  -0.15806213\n",
            "    6 |      24 |  0.00000E+00 |  0.00000E+00 | tf.Tensor(-0.18397158, shape=(), dtype=float32) |  -0.15806213\n",
            "    7 |      28 |  0.00000E+00 |  0.00000E+00 | tf.Tensor(-0.18397158, shape=(), dtype=float32) |   -0.1649242\n",
            "    8 |      32 |  0.00000E+00 |  0.00000E+00 | tf.Tensor(-0.18397158, shape=(), dtype=float32) |  -0.17276405\n",
            "    9 |      36 |  0.00000E+00 |  0.00000E+00 | tf.Tensor(-0.18397158, shape=(), dtype=float32) |  -0.17276405\n",
            "   10 |      40 |  0.00000E+00 |  0.00000E+00 | tf.Tensor(-0.20212048, shape=(), dtype=float32) |  -0.18175101\n",
            "   11 |      44 |  0.00000E+00 |  0.00000E+00 | tf.Tensor(-0.20212048, shape=(), dtype=float32) |  -0.18175101\n",
            "   12 |      48 |  0.00000E+00 |  0.00000E+00 | tf.Tensor(-0.20212048, shape=(), dtype=float32) |  -0.18175101\n",
            "   13 |      52 |  0.00000E+00 |  0.00000E+00 | tf.Tensor(-0.20212048, shape=(), dtype=float32) |  -0.18175101\n",
            "   14 |      56 |  0.00000E+00 |  0.00000E+00 | tf.Tensor(-0.20212048, shape=(), dtype=float32) |  -0.18175101\n",
            "   15 |      60 |  0.00000E+00 |  0.00000E+00 | tf.Tensor(-0.22724769, shape=(), dtype=float32) |  -0.20091318\n",
            "   16 |      64 |  0.00000E+00 |  0.00000E+00 | tf.Tensor(-0.22724769, shape=(), dtype=float32) |  -0.20091318\n",
            "   17 |      68 |  0.00000E+00 |  0.00000E+00 | tf.Tensor(-0.22724769, shape=(), dtype=float32) |  -0.20091318\n",
            "   18 |      72 |  0.00000E+00 |  0.00000E+00 | tf.Tensor(-0.22724769, shape=(), dtype=float32) |  -0.20091318\n",
            "   19 |      76 |  0.00000E+00 |  0.00000E+00 | tf.Tensor(-0.22724769, shape=(), dtype=float32) |  -0.20374218\n",
            "   20 |      80 |  0.00000E+00 |  0.00000E+00 | tf.Tensor(-0.22724769, shape=(), dtype=float32) |  -0.20405322\n",
            "   21 |      84 |  0.00000E+00 |  0.00000E+00 | tf.Tensor(-0.22724769, shape=(), dtype=float32) |  -0.20405322\n",
            "   22 |      88 |  0.00000E+00 |  0.00000E+00 | tf.Tensor(-0.22724769, shape=(), dtype=float32) |  -0.20405322\n",
            "   23 |      92 |  0.00000E+00 |  0.00000E+00 | tf.Tensor(-0.22724769, shape=(), dtype=float32) |  -0.20405322\n",
            "   24 |      96 |  0.00000E+00 |  0.00000E+00 | tf.Tensor(-0.22724769, shape=(), dtype=float32) |  -0.20405322\n",
            "   25 |     100 |  0.00000E+00 |  0.00000E+00 | tf.Tensor(-0.22724769, shape=(), dtype=float32) |  -0.20405322\n",
            "   26 |     104 |  0.00000E+00 |  0.00000E+00 | tf.Tensor(-0.22724769, shape=(), dtype=float32) |  -0.20405322\n",
            "   27 |     108 |  0.00000E+00 |  0.00000E+00 | tf.Tensor(-0.22724769, shape=(), dtype=float32) |  -0.20405322\n",
            "   28 |     112 |  0.00000E+00 |  0.00000E+00 | tf.Tensor(-0.22724769, shape=(), dtype=float32) |  -0.20405322\n",
            "   29 |     116 |  0.00000E+00 |  0.00000E+00 | tf.Tensor(-0.22724769, shape=(), dtype=float32) |  -0.20405322\n",
            "   30 |     120 |  0.00000E+00 |  0.00000E+00 | tf.Tensor(-0.22724769, shape=(), dtype=float32) |  -0.20641226\n",
            "   31 |     124 |  0.00000E+00 |  0.00000E+00 | tf.Tensor(-0.22724769, shape=(), dtype=float32) |  -0.20653662\n",
            "   32 |     128 |  0.00000E+00 |  0.00000E+00 | tf.Tensor(-0.22724769, shape=(), dtype=float32) |  -0.20800167\n",
            "   33 |     132 |  0.00000E+00 |  0.00000E+00 | tf.Tensor(-0.22724769, shape=(), dtype=float32) |  -0.20800167\n",
            "   34 |     136 |  0.00000E+00 |  0.00000E+00 | tf.Tensor(-0.22724769, shape=(), dtype=float32) |  -0.20800167\n",
            "   35 |     140 |  0.00000E+00 |  0.00000E+00 | tf.Tensor(-0.22724769, shape=(), dtype=float32) |  -0.20800167\n",
            "   36 |     144 |  0.00000E+00 |  0.00000E+00 | tf.Tensor(-0.22724769, shape=(), dtype=float32) |  -0.20800167\n",
            "   37 |     148 |  0.00000E+00 |  0.00000E+00 | tf.Tensor(-0.22724769, shape=(), dtype=float32) |  -0.21091944\n",
            "   38 |     152 |  0.00000E+00 |  0.00000E+00 | tf.Tensor(-0.22724769, shape=(), dtype=float32) |  -0.21091944\n",
            "   39 |     156 |  0.00000E+00 |  0.00000E+00 | tf.Tensor(-0.22724769, shape=(), dtype=float32) |  -0.21515977\n",
            "   40 |     160 |  0.00000E+00 |  0.00000E+00 | tf.Tensor(-0.22724769, shape=(), dtype=float32) |  -0.21515977\n",
            "   41 |     164 |  0.00000E+00 |  0.00000E+00 | tf.Tensor(-0.22724769, shape=(), dtype=float32) |  -0.21515977\n",
            "   42 |     168 |  0.00000E+00 |  0.00000E+00 | tf.Tensor(-0.22724769, shape=(), dtype=float32) |  -0.21515977\n",
            "   43 |     172 |  0.00000E+00 |  0.00000E+00 | tf.Tensor(-0.22724769, shape=(), dtype=float32) |  -0.21515977\n",
            "   44 |     176 |  0.00000E+00 |  0.00000E+00 | tf.Tensor(-0.22724769, shape=(), dtype=float32) |  -0.21515977\n",
            "   45 |     180 |  0.00000E+00 |  0.00000E+00 | tf.Tensor(-0.22724769, shape=(), dtype=float32) |  -0.21515977\n",
            "   46 |     184 |  0.00000E+00 |  0.00000E+00 | tf.Tensor(-0.22724769, shape=(), dtype=float32) |  -0.21515977\n",
            "   47 |     188 |  0.00000E+00 |  0.00000E+00 | tf.Tensor(-0.22724769, shape=(), dtype=float32) |  -0.21515977\n",
            "   48 |     192 |  0.00000E+00 |  0.00000E+00 | tf.Tensor(-0.22724769, shape=(), dtype=float32) |  -0.21515977\n",
            "   49 |     196 |  0.00000E+00 |  0.00000E+00 | tf.Tensor(-0.22724769, shape=(), dtype=float32) |  -0.21515977\n",
            "   50 |     200 |  0.00000E+00 |  0.00000E+00 | tf.Tensor(-0.22724769, shape=(), dtype=float32) |  -0.21515977\n",
            "   51 |     204 |  0.00000E+00 |  0.00000E+00 | tf.Tensor(-0.22724769, shape=(), dtype=float32) |  -0.21515977\n",
            "   52 |     208 |  0.00000E+00 |  0.00000E+00 | tf.Tensor(-0.22724769, shape=(), dtype=float32) |  -0.21515977\n",
            "   53 |     212 |  0.00000E+00 |  0.00000E+00 | tf.Tensor(-0.22724769, shape=(), dtype=float32) |  -0.21515977\n",
            "   54 |     216 |  0.00000E+00 |  0.00000E+00 | tf.Tensor(-0.22724769, shape=(), dtype=float32) |  -0.21515977\n",
            "   55 |     220 |  0.00000E+00 |  0.00000E+00 | tf.Tensor(-0.22724769, shape=(), dtype=float32) |  -0.21515977\n",
            "   56 |     224 |  0.00000E+00 |  0.00000E+00 | tf.Tensor(-0.22724769, shape=(), dtype=float32) |  -0.21515977\n",
            "   57 |     228 |  0.00000E+00 |  0.00000E+00 | tf.Tensor(-0.22724769, shape=(), dtype=float32) |  -0.21515977\n",
            "   58 |     232 |  0.00000E+00 |  0.00000E+00 | tf.Tensor(-0.22724769, shape=(), dtype=float32) |  -0.21515977\n",
            "   59 |     236 |  0.00000E+00 |  0.00000E+00 | tf.Tensor(-0.22724769, shape=(), dtype=float32) |  -0.21515977\n",
            "   60 |     240 |  0.00000E+00 |  0.00000E+00 | tf.Tensor(-0.22724769, shape=(), dtype=float32) |  -0.21515977\n",
            "   61 |     244 |  0.00000E+00 |  0.00000E+00 | tf.Tensor(-0.22724769, shape=(), dtype=float32) |  -0.21515977\n",
            "   62 |     248 |  0.00000E+00 |  0.00000E+00 | tf.Tensor(-0.22724769, shape=(), dtype=float32) |  -0.21515977\n",
            "   63 |     252 |  0.00000E+00 |  0.00000E+00 | tf.Tensor(-0.22724769, shape=(), dtype=float32) |  -0.21515977\n",
            "   64 |     256 |  0.00000E+00 |  0.00000E+00 | tf.Tensor(-0.22724769, shape=(), dtype=float32) |  -0.21515977\n",
            "   65 |     260 |  0.00000E+00 |  0.00000E+00 | tf.Tensor(-0.22724769, shape=(), dtype=float32) |  -0.21515977\n",
            "   66 |     264 |  0.00000E+00 |  0.00000E+00 | tf.Tensor(-0.22724769, shape=(), dtype=float32) |  -0.21515977\n",
            "   67 |     268 |  0.00000E+00 |  0.00000E+00 | tf.Tensor(-0.22724769, shape=(), dtype=float32) |  -0.21515977\n",
            "   68 |     272 |  0.00000E+00 |  0.00000E+00 | tf.Tensor(-0.22724769, shape=(), dtype=float32) |  -0.21515977\n",
            "   69 |     276 |  0.00000E+00 |  0.00000E+00 | tf.Tensor(-0.22724769, shape=(), dtype=float32) |  -0.21515977\n",
            "   70 |     280 |  0.00000E+00 |  0.00000E+00 | tf.Tensor(-0.22724769, shape=(), dtype=float32) |  -0.21515977\n",
            "   71 |     284 |  0.00000E+00 |  0.00000E+00 | tf.Tensor(-0.22724769, shape=(), dtype=float32) |  -0.21515977\n",
            "   72 |     288 |  0.00000E+00 |  0.00000E+00 | tf.Tensor(-0.22724769, shape=(), dtype=float32) |  -0.21515977\n",
            "   73 |     292 |  0.00000E+00 |  0.00000E+00 | tf.Tensor(-0.22724769, shape=(), dtype=float32) |  -0.21515977\n",
            "   74 |     296 |  0.00000E+00 |  0.00000E+00 | tf.Tensor(-0.22724769, shape=(), dtype=float32) |  -0.21515977\n",
            "   75 |     300 |  0.00000E+00 |  0.00000E+00 | tf.Tensor(-0.22724769, shape=(), dtype=float32) |  -0.21515977\n",
            "   76 |     304 |  0.00000E+00 |  0.00000E+00 | tf.Tensor(-0.22724769, shape=(), dtype=float32) |  -0.21515977\n",
            "   77 |     308 |  0.00000E+00 |  0.00000E+00 | tf.Tensor(-0.22724769, shape=(), dtype=float32) |  -0.21515977\n",
            "   78 |     312 |  0.00000E+00 |  0.00000E+00 | tf.Tensor(-0.22724769, shape=(), dtype=float32) |  -0.21515977\n",
            "   79 |     316 |  0.00000E+00 |  0.00000E+00 | tf.Tensor(-0.22724769, shape=(), dtype=float32) |  -0.21515977\n",
            "   80 |     320 |  0.00000E+00 |  0.00000E+00 | tf.Tensor(-0.22724769, shape=(), dtype=float32) |  -0.21515977\n",
            "   81 |     324 |  0.00000E+00 |  0.00000E+00 | tf.Tensor(-0.22724769, shape=(), dtype=float32) |  -0.21515977\n",
            "   82 |     328 |  0.00000E+00 |  0.00000E+00 | tf.Tensor(-0.22724769, shape=(), dtype=float32) |  -0.21515977\n",
            "   83 |     332 |  0.00000E+00 |  0.00000E+00 | tf.Tensor(-0.22724769, shape=(), dtype=float32) |  -0.21515977\n",
            "   84 |     336 |  0.00000E+00 |  0.00000E+00 | tf.Tensor(-0.22724769, shape=(), dtype=float32) |  -0.21515977\n",
            "   85 |     340 |  0.00000E+00 |  0.00000E+00 | tf.Tensor(-0.22724769, shape=(), dtype=float32) |  -0.21515977\n",
            "   86 |     344 |  0.00000E+00 |  0.00000E+00 | tf.Tensor(-0.22724769, shape=(), dtype=float32) |  -0.21515977\n",
            "   87 |     348 |  0.00000E+00 |  0.00000E+00 | tf.Tensor(-0.22724769, shape=(), dtype=float32) |  -0.21515977\n",
            "   88 |     352 |  0.00000E+00 |  0.00000E+00 | tf.Tensor(-0.22724769, shape=(), dtype=float32) |  -0.21515977\n",
            "   89 |     356 |  0.00000E+00 |  0.00000E+00 | tf.Tensor(-0.22724769, shape=(), dtype=float32) |  -0.21515977\n",
            "   90 |     360 |  0.00000E+00 |  0.00000E+00 | tf.Tensor(-0.22724769, shape=(), dtype=float32) |  -0.21515977\n",
            "   91 |     364 |  0.00000E+00 |  0.00000E+00 | tf.Tensor(-0.22724769, shape=(), dtype=float32) |  -0.21515977\n",
            "   92 |     368 |  0.00000E+00 |  0.00000E+00 | tf.Tensor(-0.22724769, shape=(), dtype=float32) |  -0.21515977\n",
            "   93 |     372 |  0.00000E+00 |  0.00000E+00 | tf.Tensor(-0.22724769, shape=(), dtype=float32) |  -0.21515977\n",
            "   94 |     376 |  0.00000E+00 |  0.00000E+00 | tf.Tensor(-0.22724769, shape=(), dtype=float32) |  -0.21515977\n",
            "   95 |     380 |  0.00000E+00 |  0.00000E+00 | tf.Tensor(-0.22724769, shape=(), dtype=float32) |  -0.21515977\n",
            "   96 |     384 |  0.00000E+00 |  0.00000E+00 | tf.Tensor(-0.22724769, shape=(), dtype=float32) |  -0.21515977\n",
            "   97 |     388 |  0.00000E+00 |  0.00000E+00 | tf.Tensor(-0.22724769, shape=(), dtype=float32) |  -0.21515977\n",
            "   98 |     392 |  0.00000E+00 |  0.00000E+00 | tf.Tensor(-0.22724769, shape=(), dtype=float32) |  -0.21515977\n",
            "   99 |     396 |  0.00000E+00 |  0.00000E+00 | tf.Tensor(-0.22724769, shape=(), dtype=float32) |  -0.21515977\n",
            "  100 |     400 |  0.00000E+00 |  0.00000E+00 | tf.Tensor(-0.22724769, shape=(), dtype=float32) |  -0.21515977\n"
          ]
        }
      ]
    }
  ]
}